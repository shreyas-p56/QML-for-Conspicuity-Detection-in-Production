{
 "cells": [
  {
   "cell_type": "code",
   "execution_count": null,
   "id": "50bcb6f3-89ea-4709-8391-733b207d49eb",
   "metadata": {
    "scrolled": true
   },
   "outputs": [],
   "source": [
    "import pennylane as qml\n",
    "import numpy as np\n",
    "from matplotlib.backends.backend_pgf import _tex_escape as mpl_common_texification\n",
    "import plotter"
   ]
  },
  {
   "cell_type": "markdown",
   "id": "aed596bd-ed67-4e99-80dd-a090aabdcdc4",
   "metadata": {},
   "source": [
    "#### Codercise I.6.1 - Applying RX"
   ]
  },
  {
   "cell_type": "code",
   "execution_count": null,
   "id": "cf70994a-29bb-4adc-be4b-450ca6ee93f1",
   "metadata": {},
   "outputs": [],
   "source": [
    "dev = qml.device(\"default.qubit\", wires=1)\n",
    "\n",
    "\n",
    "@qml.qnode(dev)\n",
    "def apply_rx_pi(state):\n",
    "    \"\"\"Apply an RX gate with an angle of pi to a particular basis state.\n",
    "\n",
    "    Args:\n",
    "        state (int): Either 0 or 1. If 1, initialize the qubit to state |1>\n",
    "            before applying other operations.\n",
    "\n",
    "    Returns:\n",
    "        np.array[complex]: The state of the qubit after the operations.\n",
    "    \"\"\"\n",
    "    if state == 1:\n",
    "        qml.PauliX(wires=0)\n",
    "\n",
    "    qml.RX(np.pi, wires=0)\n",
    "\n",
    "    return qml.state()\n",
    "\n",
    "print(apply_rx_pi(0))\n",
    "print(apply_rx_pi(1))"
   ]
  },
  {
   "cell_type": "markdown",
   "id": "88bfbc12-ddb5-40a7-a783-1c571b48945a",
   "metadata": {},
   "source": [
    "#### Codercise I.6.2 - Plotting RX"
   ]
  },
  {
   "cell_type": "code",
   "execution_count": null,
   "id": "e5d626eb-4885-4be8-9442-029791a743cc",
   "metadata": {},
   "outputs": [],
   "source": [
    "dev = qml.device(\"default.qubit\", wires=1)\n",
    "\n",
    "\n",
    "@qml.qnode(dev)\n",
    "def apply_rx(theta, state):\n",
    "    \"\"\"Apply an RX gate with an angle of theta to a particular basis state.\n",
    "\n",
    "    Args:\n",
    "        theta (float): A rotation angle.\n",
    "        state (int): Either 0 or 1. If 1, initialize the qubit to state |1>\n",
    "            before applying other operations.\n",
    "\n",
    "    Returns:\n",
    "        np.array[complex]: The state of the qubit after the operations.\n",
    "    \"\"\"\n",
    "    if state == 1:\n",
    "        qml.PauliX(wires=0)\n",
    "\n",
    "    qml.RX(theta, wires=0)\n",
    "\n",
    "    return qml.state()\n",
    "\n",
    "\n",
    "# Code for plotting\n",
    "angles = np.linspace(0, 4 * np.pi, 200)\n",
    "output_states = np.array([apply_rx(t, 0) for t in angles])\n",
    "\n",
    "plot = plotter(angles, output_states)"
   ]
  },
  {
   "cell_type": "markdown",
   "id": "d9308ecf-43b6-4c86-bfdb-683940c8fcad",
   "metadata": {},
   "source": [
    "#### Codercise I.6.3 - Plotting RY"
   ]
  },
  {
   "cell_type": "code",
   "execution_count": null,
   "id": "2206a0e6-20d1-444f-aca5-e99eb670758f",
   "metadata": {},
   "outputs": [],
   "source": [
    "dev = qml.device(\"default.qubit\", wires=1)\n",
    "\n",
    "\n",
    "@qml.qnode(dev)\n",
    "def apply_ry(theta, state):\n",
    "    \"\"\"Apply an RY gate with an angle of theta to a particular basis state.\n",
    "\n",
    "    Args:\n",
    "        theta (float): A rotation angle.\n",
    "        state (int): Either 0 or 1. If 1, initialize the qubit to state |1>\n",
    "            before applying other operations.\n",
    "\n",
    "    Returns:\n",
    "        np.array[complex]: The state of the qubit after the operations.\n",
    "    \"\"\"\n",
    "    if state == 1:\n",
    "        qml.PauliX(wires=0)\n",
    "\n",
    "    qml.RY(theta, wires=0)\n",
    "\n",
    "    return qml.state()\n",
    "\n",
    "\n",
    "# Code for plotting\n",
    "angles = np.linspace(0, 4 * np.pi, 200)\n",
    "output_states = np.array([apply_ry(t, 0) for t in angles])\n",
    "\n",
    "plot = plotter(angles, output_states)"
   ]
  }
 ],
 "metadata": {
  "kernelspec": {
   "display_name": "Python 3 (ipykernel)",
   "language": "python",
   "name": "python3"
  },
  "language_info": {
   "codemirror_mode": {
    "name": "ipython",
    "version": 3
   },
   "file_extension": ".py",
   "mimetype": "text/x-python",
   "name": "python",
   "nbconvert_exporter": "python",
   "pygments_lexer": "ipython3",
   "version": "3.12.4"
  }
 },
 "nbformat": 4,
 "nbformat_minor": 5
}
