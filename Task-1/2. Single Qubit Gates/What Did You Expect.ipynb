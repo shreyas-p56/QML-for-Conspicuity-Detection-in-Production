{
 "cells": [
  {
   "cell_type": "code",
   "execution_count": 7,
   "id": "008ff908-2efe-4755-84c4-c41c26df7d26",
   "metadata": {},
   "outputs": [],
   "source": [
    "import pennylane as qml\n",
    "import numpy as np"
   ]
  },
  {
   "cell_type": "markdown",
   "id": "e9829edc-c807-4e04-9229-2f53d34016b0",
   "metadata": {},
   "source": [
    "#### Codercise I.10.1 - Measurement of the PauliY observable"
   ]
  },
  {
   "cell_type": "code",
   "execution_count": 9,
   "id": "98ee5566-80aa-45af-9b54-c2a84d913b8b",
   "metadata": {},
   "outputs": [
    {
     "name": "stdout",
     "output_type": "stream",
     "text": [
      "-0.7071067811865471\n"
     ]
    }
   ],
   "source": [
    "dev = qml.device(\"default.qubit\", wires=1)\n",
    "\n",
    "@qml.qnode(dev)\n",
    "def circuit():\n",
    "    qml.RX(np.pi/4, 0)\n",
    "    qml.Hadamard(0)\n",
    "    qml.PauliZ(0)\n",
    "\n",
    "    return qml.expval(qml.PauliY(0))\n",
    "\n",
    "print(circuit())"
   ]
  },
  {
   "cell_type": "markdown",
   "id": "650646e0-3fd7-496a-8f26-8d82e51b50f0",
   "metadata": {},
   "source": [
    "#### Codercise I.10.2 - Setting up the number of experiment shots"
   ]
  },
  {
   "cell_type": "code",
   "execution_count": 12,
   "id": "c117967e-7efa-4d95-bcb8-d93cb469d519",
   "metadata": {},
   "outputs": [
    {
     "name": "stdout",
     "output_type": "stream",
     "text": [
      "[-0.76, -0.706, -0.6952, -0.7074, -0.70653]\n"
     ]
    }
   ],
   "source": [
    "# An array to store your results\n",
    "shot_results = []\n",
    "\n",
    "# Different numbers of shots\n",
    "shot_values = [100, 1000, 10000, 100000, 1000000]\n",
    "\n",
    "for shots in shot_values:\n",
    "    dev = qml.device('default.qubit', wires=1, shots=shots)\n",
    "\n",
    "    @qml.qnode(dev)\n",
    "    def circuit():\n",
    "        \n",
    "        qml.RX(np.pi/4, 0)\n",
    "        qml.Hadamard(0)\n",
    "        qml.PauliZ(0)\n",
    "    \n",
    "        return qml.expval(qml.PauliY(0))\n",
    "\n",
    "    shot_results.append(circuit())\n",
    "\n",
    "print(qml.math.unwrap(shot_results))"
   ]
  },
  {
   "cell_type": "markdown",
   "id": "5149a97b-e3dd-4287-98a7-11caac4988cc",
   "metadata": {},
   "source": [
    "#### Codercise I.10.3 - Evaluating the Samples"
   ]
  },
  {
   "cell_type": "code",
   "execution_count": 15,
   "id": "25d06d31-4e46-44cb-b35e-c53865d207a2",
   "metadata": {},
   "outputs": [
    {
     "name": "stdout",
     "output_type": "stream",
     "text": [
      "-0.70564\n"
     ]
    }
   ],
   "source": [
    "dev = qml.device(\"default.qubit\", wires=1, shots=100000)\n",
    "\n",
    "\n",
    "@qml.qnode(dev)\n",
    "def circuit():\n",
    "    \n",
    "    qml.RX(np.pi / 4, wires=0)\n",
    "    qml.Hadamard(wires=0)\n",
    "    qml.PauliZ(wires=0)\n",
    "\n",
    "    return qml.sample(qml.Y(0))\n",
    "\n",
    "\n",
    "def compute_expval_from_samples(samples):\n",
    "    \"\"\"Compute the expectation value of an observable given a set of\n",
    "    sample outputs. You can assume that there are two possible outcomes,\n",
    "    1 and -1.\n",
    "\n",
    "    Args:\n",
    "        samples (np.array[float]): 100000 samples representing the results of\n",
    "            running the above circuit.\n",
    "\n",
    "    Returns:\n",
    "        float: the expectation value computed based on samples.\n",
    "    \"\"\"\n",
    "\n",
    "    samples = list(samples)\n",
    "    estimated_expval = (samples.count(1) - samples.count(-1))/len(samples)\n",
    "\n",
    "    return estimated_expval\n",
    "\n",
    "\n",
    "samples = circuit()\n",
    "print(compute_expval_from_samples(samples))"
   ]
  },
  {
   "cell_type": "markdown",
   "id": "2d436e86-1e43-4a6a-b0be-420218f36688",
   "metadata": {},
   "source": [
    "#### Codercise I.10.4 - The Variance of Sample Measurements"
   ]
  },
  {
   "cell_type": "code",
   "execution_count": null,
   "id": "b4a604c2-0131-4d1d-8c8c-c8049be31d0e",
   "metadata": {},
   "outputs": [],
   "source": [
    "def variance_experiment(n_shots):\n",
    "    \"\"\"Run an experiment to determine the variance in an expectation\n",
    "    value computed with a given number of shots.\n",
    "\n",
    "    Args:\n",
    "        n_shots (int): The number of shots\n",
    "\n",
    "    Returns:\n",
    "        float: The variance in expectation value we obtain running the\n",
    "        circuit 100 times with n_shots shots each.\n",
    "    \"\"\"\n",
    "\n",
    "    # To obtain a variance, we run the circuit multiple times at each shot value.\n",
    "    n_trials = 100\n",
    "\n",
    "    dev = qml.device('default.qubit', wires=1, shots=n_shots)\n",
    "    \n",
    "    @qml.qnode(dev)\n",
    "    def circuit():\n",
    "        qml.Hadamard(wires=0)\n",
    "        return qml.expval(qml.PauliZ(wires=0))\n",
    "\n",
    "    # RUN THE QNODE N_TRIALS TIMES AND RETURN THE VARIANCE OF THE RESULTS\n",
    "    exp_values = []\n",
    "    for i in range(n_trials):\n",
    "        exp_values.append(circuit())\n",
    "\n",
    "    return np.var(exp_values)\n",
    "\n",
    "\n",
    "def variance_scaling(n_shots):\n",
    "    \"\"\"Once you have determined how the variance in expectation value scales\n",
    "    with the number of shots, complete this function to programmatically\n",
    "    represent the relationship.\n",
    "\n",
    "    Args:\n",
    "        n_shots (int): The number of shots\n",
    "\n",
    "    Returns:\n",
    "        float: The variance in expectation value we expect to see when we run\n",
    "        an experiment with n_shots shots.\n",
    "    \"\"\"\n",
    "\n",
    "    estimated_variance = 1/n_shots\n",
    "\n",
    "    return estimated_variance\n",
    "\n",
    "# Various numbers of shots; you can change this\n",
    "shot_vals = [10, 20, 40, 100, 200, 400, 1000, 2000, 4000]\n",
    "\n",
    "# Used to plot your results\n",
    "results_experiment = [variance_experiment(shots) for shots in shot_vals]\n",
    "results_scaling = [variance_scaling(shots) for shots in shot_vals]\n",
    "plot = plotter(shot_vals, results_experiment, results_scaling)"
   ]
  }
 ],
 "metadata": {
  "kernelspec": {
   "display_name": "Python 3 (ipykernel)",
   "language": "python",
   "name": "python3"
  },
  "language_info": {
   "codemirror_mode": {
    "name": "ipython",
    "version": 3
   },
   "file_extension": ".py",
   "mimetype": "text/x-python",
   "name": "python",
   "nbconvert_exporter": "python",
   "pygments_lexer": "ipython3",
   "version": "3.12.4"
  }
 },
 "nbformat": 4,
 "nbformat_minor": 5
}
